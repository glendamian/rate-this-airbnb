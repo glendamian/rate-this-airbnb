{
 "cells": [
  {
   "cell_type": "markdown",
   "metadata": {},
   "source": [
    "<center> <h2> DS 3000 - Fall 2021</h2> </center>\n",
    "<center> <h3> DS Report </h3> </center>"
   ]
  },
  {
   "cell_type": "markdown",
   "metadata": {},
   "source": [
    "<center> <h3> Predicting Airbnb Scores Through User Submitted Reviews </h3> </center>\n",
    "<center><h4>Don Kim, Glen Damian Lim, Jason Fujii</h4></center>"
   ]
  },
  {
   "cell_type": "markdown",
   "metadata": {},
   "source": [
    "### Important links for this project:\n",
    "\n",
    "Github Repository Link: https://github.com/glendamian/rate_this_airbnb/tree/v1\n",
    "\n",
    "Google Colab Link: https://colab.research.google.com/drive/1GIptSdCmCNIryVXuVImEZsToMyRKCRN6?usp=sharing"
   ]
  },
  {
   "cell_type": "markdown",
   "metadata": {},
   "source": [
    "<hr style=\"height:2px; border:none; color:black; background-color:black;\">"
   ]
  },
  {
   "cell_type": "markdown",
   "metadata": {},
   "source": [
    "#### Executive Summary:\n",
    "\n",
    "In this project, we will be looking at a dataset that we have cleaned ourselves about Airbnb listings. The Airbnb listings will be strictly in the Boston area for the sake of keeping the project at a reasonable scale. We will be predicting a binary value of whether a user should stay at a 'Best' listing or just a 'Decent' listing. This prediction will be made using the feature variables of text reviews and the ratings given by users out of a score of 5. The machine learning algorithms we will be using in this project are Logistic Regression Multinomial, Naive Bayes, and Decision Tree."
   ]
  },
  {
   "cell_type": "markdown",
   "metadata": {},
   "source": [
    "<hr style=\"height:2px; border:none; color:black; background-color:black;\">"
   ]
  },
  {
   "cell_type": "markdown",
   "metadata": {},
   "source": [
    "## Outline\n",
    "1. <a href='#1'>INTRODUCTION</a>\n",
    "2. <a href='#2'>METHOD</a>\n",
    "3. <a href='#3'>RESULTS</a>\n",
    "4. <a href='#4'>DISCUSSION</a>"
   ]
  },
  {
   "cell_type": "markdown",
   "metadata": {},
   "source": [
    "<a id=\"1\"></a>\n",
    "<hr style=\"height:2px; border:none; color:black; background-color:black;\">"
   ]
  },
  {
   "cell_type": "markdown",
   "metadata": {},
   "source": [
    "## 1. INTRODUCTION"
   ]
  },
  {
   "cell_type": "markdown",
   "metadata": {},
   "source": [
    "<h4>Problem Statement</h4>\n",
    "  \n",
    "  The topic of our project is Airbnb listings located throughout the Boston area. We are looking at listings in the Boston area for the sake of keeping this project in a doable scale. The problem we would like to tackle in this topic is to find a better metric for determining the best Airbnb listings a user should stay at. We as a group want to learn the average ratings users give these listings and if there is any relationship as to why these listings are more highly rated.\n",
    "\n",
    "<h4>Significance of the Problem</h4>\n",
    "\n",
    "  A simple 5 star rating is too vague of a factor to determine whether an Airbnb is the best place for a user to stay at. Furthermore, going through all written reviews isn’t feasible. Therefore, we have taken it upon us to use machine learning algorithms to go through a large pool of diverse user reviews of Airbnb listings to efficiently give users a proper \"Best\" or \"Decent\" answer as to whether they should stay at a listing. We give these two strings as options because the average scores for the listings are very high by nature so we are trying to pinpoint which listings are the best to stay at.\n",
    "  \n",
    "  The insights we can gather from this project are what kind of keywords and reviews differentiate \"excellent\" Airbnb's from the \"decent\" ones, or if there is no difference in the keywords, at all. We can figure this out by analyzing our data after our machine learning algorithms are applied. We will be going through the text within the reviews given by users and use feature extraction using text to determine how accurate the 5 star ratings are. We can also possibly see if there is any specific location that has a more favored amount of listings that generate a positive score using our metric.\n",
    "\n",
    "<h4>Questions</h4>\n",
    "\n",
    "* Out of the three algorithms (Logistic Regression, Multinomial Naive Bayes, Decision Tree), which one yields the highest classification accuracy result? Which one out of the three algorithms can we use to predict whether a listing is a \"Best\" place to stay in or just a \"Decent\" place to stay in.\n",
    "\n",
    "* How many \"Best\" listings are there relative to how many \"Decent\" listings. Is there a wide difference?\n",
    "\n",
    "* Do the results change at all when run with a different instance? This can situation can possibly arise as new reviews are constantly being written every day for each listing on Airbnb. Or is it the case that these new entries do not skew the results of our algorithms?"
   ]
  },
  {
   "cell_type": "markdown",
   "metadata": {},
   "source": [
    "<a id=\"2\"></a>\n",
    "<hr style=\"height:2px; border:none; color:black; background-color:black;\">"
   ]
  },
  {
   "cell_type": "markdown",
   "metadata": {},
   "source": [
    "## 2. METHOD"
   ]
  },
  {
   "cell_type": "markdown",
   "metadata": {},
   "source": [
    "### 2.1. Data Acquisition\n",
    "  \n",
    "  We obtained our data through a website called \"insideairbnb\" that provides datasets for Airbnb listings around the world.\n",
    "  You can find csv files containing information on the listings, reviews, calenders and neighbourhoods of a particular city.\n",
    "  Below attached is the link to the source:\n",
    "  \n",
    "  http://insideairbnb.com/get-the-data.html\n",
    "\n",
    "The listings.csv dataset describes for a given Airbnb certain variables such as the overall cleanliness rating, how many reviews per month and etc. for a total of about 70 variables by which each Airbnb is reviewed. The amount of samples included in the listings.csv is 3429, suggesting that for the most recent dataset for Boston there are 3429 Airbnbs reviewe. \n",
    "\n",
    "In the reviews.csv there are 126679 rows suggesting that there are 126679 total reviews they have accumulated for Boston. This also includes an ID for the Airbnb, such that we can match the two datasets on one Airbnb.\n",
    "\n",
    "We decided to pick 1200 random Airbnb's from the listings.csv, and select one comment from the 126679 for each such that in our final dataframe, there are 1200 individual Airbnbs with one comment matched by their unique ID."
   ]
  },
  {
   "cell_type": "markdown",
   "metadata": {},
   "source": [
    "### 2.2. Data Analysis\n",
    "\n",
    "The predictive model we are creating for this project will be a multiple regression model as we will be using supervised learning in this project. The outcome variable we will be going to predict is a binary value of whether a user should stay at an Airbnb listing or not. The feature variable that will be used to predict this outcome variable are the text reviews the user submits, the user rating score given out of 5, and the id of the listing.\n",
    "\n",
    "This is a supervised learning problem, which is sub-categorized to regression. We will be seeking to obtain a continuous output variable\n",
    "\n",
    "The machine learning algorithms we will be using along with a quick description of them are as follows:\n",
    "\n",
    "* Logistic Regression: A classification algorithm that is sed to predict the probability of a categorical dependent variable. The dependent variable is a binary variable that contains data coded as 1 (yes) or 0 (no). This right here is the main reason why we want to be using this regression model as it very closely resembles the dependent variable we are trying to output.\n",
    "  \n",
    "* Multinomial Naive Bayes: This is a probabilistic learning method that is mostly used in Natural Language Processing. This algorithm is based off the Bayes theorem and predicts the tag of a text - in our case the user reviews.\n",
    "  \n",
    "* Decision Tree Classifier: This algorithm hierarchically splits data down into subsets which are then split again into smaller subsets until all of thea features that have been split all belong to the same class. We want to try using this algorithm as it comes with the advantage of possibly improving our accuracy by setting the logic for the branches split."
   ]
  },
  {
   "cell_type": "markdown",
   "metadata": {},
   "source": [
    "<a id=\"3\"></a>\n",
    "<hr style=\"height:2px; border:none; color:black; background-color:black;\">"
   ]
  },
  {
   "cell_type": "markdown",
   "metadata": {},
   "source": [
    "# 3. RESULTS"
   ]
  },
  {
   "cell_type": "markdown",
   "metadata": {},
   "source": [
    "## 3.1. Data Wrangling and Data Cleaning"
   ]
  },
  {
   "cell_type": "markdown",
   "metadata": {},
   "source": [
    "### Import CSVs and Convert to Dataframes"
   ]
  },
  {
   "cell_type": "code",
   "execution_count": 2,
   "metadata": {},
   "outputs": [],
   "source": [
    "from urllib import request\n",
    "import pandas as pd\n",
    "import zipfile\n",
    "\n",
    "# Load our two dataframes. This dataframe includes 3000+ Airbnb's with the 70 variables.\n",
    "listings = pd.read_csv(\"https://raw.githubusercontent.com/glendamian/rate_this_airbnb/main/listings.csv\")\n",
    "\n",
    "# This dataframe includes\n",
    "link = 'https://github.com/glendamian/rate_this_airbnb/blob/main/reviews.csv.zip?raw=true'\n",
    "request.urlretrieve(link, 'reviews.csv.zip')\n",
    "compressed_file = zipfile.ZipFile('reviews.csv.zip')\n",
    "csv_file = compressed_file.open('reviews.csv')\n",
    "reviews = pd.read_csv(csv_file)"
   ]
  },
  {
   "cell_type": "markdown",
   "metadata": {},
   "source": [
    "### Find the count for each rating for the Review Scores Rating vs. Number of Reviews graph"
   ]
  },
  {
   "cell_type": "code",
   "execution_count": 3,
   "metadata": {},
   "outputs": [
    {
     "data": {
      "text/html": [
       "<div>\n",
       "<style scoped>\n",
       "    .dataframe tbody tr th:only-of-type {\n",
       "        vertical-align: middle;\n",
       "    }\n",
       "\n",
       "    .dataframe tbody tr th {\n",
       "        vertical-align: top;\n",
       "    }\n",
       "\n",
       "    .dataframe thead th {\n",
       "        text-align: right;\n",
       "    }\n",
       "</style>\n",
       "<table border=\"1\" class=\"dataframe\">\n",
       "  <thead>\n",
       "    <tr style=\"text-align: right;\">\n",
       "      <th></th>\n",
       "      <th>review_scores_rating</th>\n",
       "      <th>id</th>\n",
       "    </tr>\n",
       "  </thead>\n",
       "  <tbody>\n",
       "    <tr>\n",
       "      <th>0</th>\n",
       "      <td>0.00</td>\n",
       "      <td>12</td>\n",
       "    </tr>\n",
       "    <tr>\n",
       "      <th>1</th>\n",
       "      <td>1.00</td>\n",
       "      <td>9</td>\n",
       "    </tr>\n",
       "    <tr>\n",
       "      <th>2</th>\n",
       "      <td>1.50</td>\n",
       "      <td>1</td>\n",
       "    </tr>\n",
       "    <tr>\n",
       "      <th>3</th>\n",
       "      <td>2.00</td>\n",
       "      <td>5</td>\n",
       "    </tr>\n",
       "    <tr>\n",
       "      <th>4</th>\n",
       "      <td>2.33</td>\n",
       "      <td>3</td>\n",
       "    </tr>\n",
       "    <tr>\n",
       "      <th>...</th>\n",
       "      <td>...</td>\n",
       "      <td>...</td>\n",
       "    </tr>\n",
       "    <tr>\n",
       "      <th>112</th>\n",
       "      <td>4.96</td>\n",
       "      <td>39</td>\n",
       "    </tr>\n",
       "    <tr>\n",
       "      <th>113</th>\n",
       "      <td>4.97</td>\n",
       "      <td>23</td>\n",
       "    </tr>\n",
       "    <tr>\n",
       "      <th>114</th>\n",
       "      <td>4.98</td>\n",
       "      <td>23</td>\n",
       "    </tr>\n",
       "    <tr>\n",
       "      <th>115</th>\n",
       "      <td>4.99</td>\n",
       "      <td>8</td>\n",
       "    </tr>\n",
       "    <tr>\n",
       "      <th>116</th>\n",
       "      <td>5.00</td>\n",
       "      <td>482</td>\n",
       "    </tr>\n",
       "  </tbody>\n",
       "</table>\n",
       "<p>117 rows × 2 columns</p>\n",
       "</div>"
      ],
      "text/plain": [
       "     review_scores_rating   id\n",
       "0                    0.00   12\n",
       "1                    1.00    9\n",
       "2                    1.50    1\n",
       "3                    2.00    5\n",
       "4                    2.33    3\n",
       "..                    ...  ...\n",
       "112                  4.96   39\n",
       "113                  4.97   23\n",
       "114                  4.98   23\n",
       "115                  4.99    8\n",
       "116                  5.00  482\n",
       "\n",
       "[117 rows x 2 columns]"
      ]
     },
     "execution_count": 3,
     "metadata": {},
     "output_type": "execute_result"
    }
   ],
   "source": [
    "counts = listings.groupby(by=['review_scores_rating']).count()\n",
    "counts = counts.filter(['id', 'review_scores_rating'], axis=1).reset_index()\n",
    "counts"
   ]
  },
  {
   "cell_type": "markdown",
   "metadata": {},
   "source": [
    "### Drop nan values, duplicate IDs, unrelated columns for 1200 Airbnbs"
   ]
  },
  {
   "cell_type": "code",
   "execution_count": 4,
   "metadata": {},
   "outputs": [
    {
     "data": {
      "text/html": [
       "<div>\n",
       "<style scoped>\n",
       "    .dataframe tbody tr th:only-of-type {\n",
       "        vertical-align: middle;\n",
       "    }\n",
       "\n",
       "    .dataframe tbody tr th {\n",
       "        vertical-align: top;\n",
       "    }\n",
       "\n",
       "    .dataframe thead th {\n",
       "        text-align: right;\n",
       "    }\n",
       "</style>\n",
       "<table border=\"1\" class=\"dataframe\">\n",
       "  <thead>\n",
       "    <tr style=\"text-align: right;\">\n",
       "      <th></th>\n",
       "      <th>id</th>\n",
       "      <th>review_scores_rating</th>\n",
       "    </tr>\n",
       "  </thead>\n",
       "  <tbody>\n",
       "    <tr>\n",
       "      <th>5</th>\n",
       "      <td>10813</td>\n",
       "      <td>5.00</td>\n",
       "    </tr>\n",
       "    <tr>\n",
       "      <th>468</th>\n",
       "      <td>10627514</td>\n",
       "      <td>4.57</td>\n",
       "    </tr>\n",
       "    <tr>\n",
       "      <th>835</th>\n",
       "      <td>19081593</td>\n",
       "      <td>4.34</td>\n",
       "    </tr>\n",
       "    <tr>\n",
       "      <th>2493</th>\n",
       "      <td>48678923</td>\n",
       "      <td>4.81</td>\n",
       "    </tr>\n",
       "    <tr>\n",
       "      <th>1483</th>\n",
       "      <td>33467259</td>\n",
       "      <td>5.00</td>\n",
       "    </tr>\n",
       "    <tr>\n",
       "      <th>...</th>\n",
       "      <td>...</td>\n",
       "      <td>...</td>\n",
       "    </tr>\n",
       "    <tr>\n",
       "      <th>1278</th>\n",
       "      <td>28440873</td>\n",
       "      <td>4.79</td>\n",
       "    </tr>\n",
       "    <tr>\n",
       "      <th>405</th>\n",
       "      <td>8584276</td>\n",
       "      <td>4.38</td>\n",
       "    </tr>\n",
       "    <tr>\n",
       "      <th>2006</th>\n",
       "      <td>43690782</td>\n",
       "      <td>4.70</td>\n",
       "    </tr>\n",
       "    <tr>\n",
       "      <th>2514</th>\n",
       "      <td>48825405</td>\n",
       "      <td>4.80</td>\n",
       "    </tr>\n",
       "    <tr>\n",
       "      <th>1724</th>\n",
       "      <td>39004265</td>\n",
       "      <td>4.38</td>\n",
       "    </tr>\n",
       "  </tbody>\n",
       "</table>\n",
       "<p>1200 rows × 2 columns</p>\n",
       "</div>"
      ],
      "text/plain": [
       "            id  review_scores_rating\n",
       "5        10813                  5.00\n",
       "468   10627514                  4.57\n",
       "835   19081593                  4.34\n",
       "2493  48678923                  4.81\n",
       "1483  33467259                  5.00\n",
       "...        ...                   ...\n",
       "1278  28440873                  4.79\n",
       "405    8584276                  4.38\n",
       "2006  43690782                  4.70\n",
       "2514  48825405                  4.80\n",
       "1724  39004265                  4.38\n",
       "\n",
       "[1200 rows x 2 columns]"
      ]
     },
     "execution_count": 4,
     "metadata": {},
     "output_type": "execute_result"
    }
   ],
   "source": [
    "#Drop nan values from listing's score column\n",
    "listings.dropna(subset = [\"review_scores_rating\"], inplace=True)\n",
    "\n",
    "#Drop duplicates\n",
    "listings.drop_duplicates([\"id\"])\n",
    "\n",
    "# Randomly sample 1200 Airbnb's of the 3000+\n",
    "listings = listings.sample(n=1200)\n",
    "\n",
    "# Filter out the id to merge the two dataframes and score so that we can determine if the Airbnb is recommended or not.\n",
    "listings = listings.filter(['id', 'review_scores_rating'], axis=1)\n",
    "\n",
    "listings"
   ]
  },
  {
   "cell_type": "markdown",
   "metadata": {},
   "source": [
    "### Transform data such that scores below the median review rating are considered \"decent\" instead of \"best\""
   ]
  },
  {
   "cell_type": "code",
   "execution_count": 5,
   "metadata": {},
   "outputs": [
    {
     "name": "stdout",
     "output_type": "stream",
     "text": [
      "4.8 is this iteration's median score\n"
     ]
    },
    {
     "data": {
      "text/html": [
       "<div>\n",
       "<style scoped>\n",
       "    .dataframe tbody tr th:only-of-type {\n",
       "        vertical-align: middle;\n",
       "    }\n",
       "\n",
       "    .dataframe tbody tr th {\n",
       "        vertical-align: top;\n",
       "    }\n",
       "\n",
       "    .dataframe thead th {\n",
       "        text-align: right;\n",
       "    }\n",
       "</style>\n",
       "<table border=\"1\" class=\"dataframe\">\n",
       "  <thead>\n",
       "    <tr style=\"text-align: right;\">\n",
       "      <th></th>\n",
       "      <th>id</th>\n",
       "      <th>review_scores_rating</th>\n",
       "    </tr>\n",
       "  </thead>\n",
       "  <tbody>\n",
       "    <tr>\n",
       "      <th>5</th>\n",
       "      <td>10813</td>\n",
       "      <td>1</td>\n",
       "    </tr>\n",
       "    <tr>\n",
       "      <th>468</th>\n",
       "      <td>10627514</td>\n",
       "      <td>0</td>\n",
       "    </tr>\n",
       "    <tr>\n",
       "      <th>835</th>\n",
       "      <td>19081593</td>\n",
       "      <td>0</td>\n",
       "    </tr>\n",
       "    <tr>\n",
       "      <th>2493</th>\n",
       "      <td>48678923</td>\n",
       "      <td>1</td>\n",
       "    </tr>\n",
       "    <tr>\n",
       "      <th>1483</th>\n",
       "      <td>33467259</td>\n",
       "      <td>1</td>\n",
       "    </tr>\n",
       "    <tr>\n",
       "      <th>...</th>\n",
       "      <td>...</td>\n",
       "      <td>...</td>\n",
       "    </tr>\n",
       "    <tr>\n",
       "      <th>1278</th>\n",
       "      <td>28440873</td>\n",
       "      <td>0</td>\n",
       "    </tr>\n",
       "    <tr>\n",
       "      <th>405</th>\n",
       "      <td>8584276</td>\n",
       "      <td>0</td>\n",
       "    </tr>\n",
       "    <tr>\n",
       "      <th>2006</th>\n",
       "      <td>43690782</td>\n",
       "      <td>0</td>\n",
       "    </tr>\n",
       "    <tr>\n",
       "      <th>2514</th>\n",
       "      <td>48825405</td>\n",
       "      <td>0</td>\n",
       "    </tr>\n",
       "    <tr>\n",
       "      <th>1724</th>\n",
       "      <td>39004265</td>\n",
       "      <td>0</td>\n",
       "    </tr>\n",
       "  </tbody>\n",
       "</table>\n",
       "<p>1200 rows × 2 columns</p>\n",
       "</div>"
      ],
      "text/plain": [
       "            id  review_scores_rating\n",
       "5        10813                     1\n",
       "468   10627514                     0\n",
       "835   19081593                     0\n",
       "2493  48678923                     1\n",
       "1483  33467259                     1\n",
       "...        ...                   ...\n",
       "1278  28440873                     0\n",
       "405    8584276                     0\n",
       "2006  43690782                     0\n",
       "2514  48825405                     0\n",
       "1724  39004265                     0\n",
       "\n",
       "[1200 rows x 2 columns]"
      ]
     },
     "execution_count": 5,
     "metadata": {},
     "output_type": "execute_result"
    }
   ],
   "source": [
    "# Find mean score for review_scores_rating to determine cutoff between decent and best Airbnb's.\n",
    "median_score = listings['review_scores_rating'].median()\n",
    "\n",
    "print(str(median_score) + \" is this iteration's median score\")\n",
    "\n",
    "def best_airbnb(score):\n",
    "    if score <= median_score:\n",
    "        return 0\n",
    "    else:\n",
    "        return 1\n",
    "\n",
    "\n",
    "\n",
    "listings[\"review_scores_rating\"] = listings[\"review_scores_rating\"].map(best_airbnb)\n",
    "\n",
    "listings"
   ]
  },
  {
   "cell_type": "markdown",
   "metadata": {},
   "source": [
    "### Rename ID column to 'listing_id', same as in reviews dataframe, and set as index"
   ]
  },
  {
   "cell_type": "code",
   "execution_count": 64,
   "metadata": {},
   "outputs": [
    {
     "data": {
      "text/html": [
       "<div>\n",
       "<style scoped>\n",
       "    .dataframe tbody tr th:only-of-type {\n",
       "        vertical-align: middle;\n",
       "    }\n",
       "\n",
       "    .dataframe tbody tr th {\n",
       "        vertical-align: top;\n",
       "    }\n",
       "\n",
       "    .dataframe thead th {\n",
       "        text-align: right;\n",
       "    }\n",
       "</style>\n",
       "<table border=\"1\" class=\"dataframe\">\n",
       "  <thead>\n",
       "    <tr style=\"text-align: right;\">\n",
       "      <th></th>\n",
       "      <th>review_scores_rating</th>\n",
       "    </tr>\n",
       "    <tr>\n",
       "      <th>listing_id</th>\n",
       "      <th></th>\n",
       "    </tr>\n",
       "  </thead>\n",
       "  <tbody>\n",
       "    <tr>\n",
       "      <th>37152036</th>\n",
       "      <td>0</td>\n",
       "    </tr>\n",
       "    <tr>\n",
       "      <th>51582251</th>\n",
       "      <td>0</td>\n",
       "    </tr>\n",
       "    <tr>\n",
       "      <th>16040760</th>\n",
       "      <td>1</td>\n",
       "    </tr>\n",
       "    <tr>\n",
       "      <th>45652898</th>\n",
       "      <td>1</td>\n",
       "    </tr>\n",
       "    <tr>\n",
       "      <th>6758462</th>\n",
       "      <td>0</td>\n",
       "    </tr>\n",
       "    <tr>\n",
       "      <th>...</th>\n",
       "      <td>...</td>\n",
       "    </tr>\n",
       "    <tr>\n",
       "      <th>31930647</th>\n",
       "      <td>1</td>\n",
       "    </tr>\n",
       "    <tr>\n",
       "      <th>6089865</th>\n",
       "      <td>0</td>\n",
       "    </tr>\n",
       "    <tr>\n",
       "      <th>4315428</th>\n",
       "      <td>0</td>\n",
       "    </tr>\n",
       "    <tr>\n",
       "      <th>28756042</th>\n",
       "      <td>0</td>\n",
       "    </tr>\n",
       "    <tr>\n",
       "      <th>52234930</th>\n",
       "      <td>0</td>\n",
       "    </tr>\n",
       "  </tbody>\n",
       "</table>\n",
       "<p>1200 rows × 1 columns</p>\n",
       "</div>"
      ]
     },
     "metadata": {},
     "output_type": "display_data"
    }
   ],
   "source": [
    "# Change name of id column for merge operation.\n",
    "listings = listings.rename(columns={'id': 'listing_id'})\n",
    "\n",
    "listings.set_index('listing_id')"
   ]
  },
  {
   "cell_type": "markdown",
   "metadata": {},
   "source": [
    "### Drop duplicate reviews for reviews dataframe such that only one review per Airbnb. Filter out id and comment columns. Set listing_id to index for join operation."
   ]
  },
  {
   "cell_type": "code",
   "execution_count": 65,
   "metadata": {},
   "outputs": [
    {
     "data": {
      "text/html": [
       "<div>\n",
       "<style scoped>\n",
       "    .dataframe tbody tr th:only-of-type {\n",
       "        vertical-align: middle;\n",
       "    }\n",
       "\n",
       "    .dataframe tbody tr th {\n",
       "        vertical-align: top;\n",
       "    }\n",
       "\n",
       "    .dataframe thead th {\n",
       "        text-align: right;\n",
       "    }\n",
       "</style>\n",
       "<table border=\"1\" class=\"dataframe\">\n",
       "  <thead>\n",
       "    <tr style=\"text-align: right;\">\n",
       "      <th></th>\n",
       "      <th>comments</th>\n",
       "    </tr>\n",
       "    <tr>\n",
       "      <th>listing_id</th>\n",
       "      <th></th>\n",
       "    </tr>\n",
       "  </thead>\n",
       "  <tbody>\n",
       "    <tr>\n",
       "      <th>3781</th>\n",
       "      <td>The apartment was as advertised and Frank was ...</td>\n",
       "    </tr>\n",
       "    <tr>\n",
       "      <th>5506</th>\n",
       "      <td>Terry's Hotel Alterntv in Boston was a perfect...</td>\n",
       "    </tr>\n",
       "    <tr>\n",
       "      <th>6695</th>\n",
       "      <td>Terry's apartment is beautifully decorated and...</td>\n",
       "    </tr>\n",
       "    <tr>\n",
       "      <th>8789</th>\n",
       "      <td>Great accommodations for the price and nearby ...</td>\n",
       "    </tr>\n",
       "    <tr>\n",
       "      <th>10730</th>\n",
       "      <td>I went to Boston with my wife and my 7-month o...</td>\n",
       "    </tr>\n",
       "    <tr>\n",
       "      <th>...</th>\n",
       "      <td>...</td>\n",
       "    </tr>\n",
       "    <tr>\n",
       "      <th>52613030</th>\n",
       "      <td>I really enjoyed my stay here! Meredith provid...</td>\n",
       "    </tr>\n",
       "    <tr>\n",
       "      <th>52614016</th>\n",
       "      <td>Such a warm and welcoming place.  Thanks guys!</td>\n",
       "    </tr>\n",
       "    <tr>\n",
       "      <th>52615785</th>\n",
       "      <td>Great location &lt;br/&gt;Steven was a great host co...</td>\n",
       "    </tr>\n",
       "    <tr>\n",
       "      <th>52615817</th>\n",
       "      <td>This place is very clean and comfortable. The ...</td>\n",
       "    </tr>\n",
       "    <tr>\n",
       "      <th>52653198</th>\n",
       "      <td>Had a great stay! Very clean home in a quite, ...</td>\n",
       "    </tr>\n",
       "  </tbody>\n",
       "</table>\n",
       "<p>2334 rows × 1 columns</p>\n",
       "</div>"
      ]
     },
     "metadata": {},
     "output_type": "display_data"
    }
   ],
   "source": [
    "reviews = reviews.drop_duplicates([\"listing_id\"])\n",
    "\n",
    "reviews = reviews.filter(['listing_id', 'comments'], axis=1)\n",
    "\n",
    "reviews.set_index([\"listing_id\"])"
   ]
  },
  {
   "cell_type": "markdown",
   "metadata": {},
   "source": [
    "### Merge the reviews dataframe and listings dataframe into one merged_data dataframe"
   ]
  },
  {
   "cell_type": "code",
   "execution_count": 66,
   "metadata": {},
   "outputs": [
    {
     "data": {
      "text/html": [
       "<div>\n",
       "<style scoped>\n",
       "    .dataframe tbody tr th:only-of-type {\n",
       "        vertical-align: middle;\n",
       "    }\n",
       "\n",
       "    .dataframe tbody tr th {\n",
       "        vertical-align: top;\n",
       "    }\n",
       "\n",
       "    .dataframe thead th {\n",
       "        text-align: right;\n",
       "    }\n",
       "</style>\n",
       "<table border=\"1\" class=\"dataframe\">\n",
       "  <thead>\n",
       "    <tr style=\"text-align: right;\">\n",
       "      <th></th>\n",
       "      <th>listing_id</th>\n",
       "      <th>review_scores_rating</th>\n",
       "      <th>comments</th>\n",
       "    </tr>\n",
       "  </thead>\n",
       "  <tbody>\n",
       "    <tr>\n",
       "      <th>0</th>\n",
       "      <td>37152036</td>\n",
       "      <td>0</td>\n",
       "      <td>Great apartment. All amenities you’d want, ver...</td>\n",
       "    </tr>\n",
       "    <tr>\n",
       "      <th>1</th>\n",
       "      <td>51582251</td>\n",
       "      <td>0</td>\n",
       "      <td>Overall great experience. Exactly what i expec...</td>\n",
       "    </tr>\n",
       "    <tr>\n",
       "      <th>2</th>\n",
       "      <td>16040760</td>\n",
       "      <td>1</td>\n",
       "      <td>Best Airbnb experiences ever! Self check-in wi...</td>\n",
       "    </tr>\n",
       "    <tr>\n",
       "      <th>3</th>\n",
       "      <td>45652898</td>\n",
       "      <td>1</td>\n",
       "      <td>Our stay at Cindy’s place was phenomenal. This...</td>\n",
       "    </tr>\n",
       "    <tr>\n",
       "      <th>4</th>\n",
       "      <td>6758462</td>\n",
       "      <td>0</td>\n",
       "      <td>The place has an excellent location. The bed i...</td>\n",
       "    </tr>\n",
       "    <tr>\n",
       "      <th>...</th>\n",
       "      <td>...</td>\n",
       "      <td>...</td>\n",
       "      <td>...</td>\n",
       "    </tr>\n",
       "    <tr>\n",
       "      <th>1195</th>\n",
       "      <td>31930647</td>\n",
       "      <td>1</td>\n",
       "      <td>Tremendous experience in this apartment.  Abso...</td>\n",
       "    </tr>\n",
       "    <tr>\n",
       "      <th>1196</th>\n",
       "      <td>6089865</td>\n",
       "      <td>0</td>\n",
       "      <td>Couldn't have been better, I used to live in t...</td>\n",
       "    </tr>\n",
       "    <tr>\n",
       "      <th>1197</th>\n",
       "      <td>4315428</td>\n",
       "      <td>0</td>\n",
       "      <td>The home is very nice. The room is large and v...</td>\n",
       "    </tr>\n",
       "    <tr>\n",
       "      <th>1198</th>\n",
       "      <td>28756042</td>\n",
       "      <td>0</td>\n",
       "      <td>I was pretty impressed by the amenities offere...</td>\n",
       "    </tr>\n",
       "    <tr>\n",
       "      <th>1199</th>\n",
       "      <td>52234930</td>\n",
       "      <td>0</td>\n",
       "      <td>Offering this place up for travel nurses is en...</td>\n",
       "    </tr>\n",
       "  </tbody>\n",
       "</table>\n",
       "<p>1200 rows × 3 columns</p>\n",
       "</div>"
      ]
     },
     "metadata": {},
     "output_type": "display_data"
    }
   ],
   "source": [
    "merged_data = pd.merge(listings, reviews, on=\"listing_id\", how=\"inner\")\n",
    "\n",
    "# Then inner merge\n",
    "merged_data"
   ]
  },
  {
   "cell_type": "markdown",
   "metadata": {},
   "source": [
    "### 3.2. Data Exploration"
   ]
  },
  {
   "cell_type": "markdown",
   "metadata": {},
   "source": [
    "### Function to split number of best and decent."
   ]
  },
  {
   "cell_type": "code",
   "execution_count": 63,
   "metadata": {},
   "outputs": [],
   "source": [
    "def sample_df_equally_by_group(df, column, n):\n",
    "    data1 = df[df[column] == 1].sample(n = n)\n",
    "    data2 = df[df[column] == 0].sample(n = n)\n",
    "\n",
    "    results = data1.append(data2)\n",
    "    return results.sort_values(by=[column])"
   ]
  },
  {
   "cell_type": "markdown",
   "metadata": {},
   "source": [
    "### Our Stylecloud Data Visualizations"
   ]
  },
  {
   "cell_type": "code",
   "execution_count": 1,
   "metadata": {
    "scrolled": true
   },
   "outputs": [
    {
     "ename": "NameError",
     "evalue": "name 'final_data' is not defined",
     "output_type": "error",
     "traceback": [
      "\u001b[0;31m---------------------------------------------------------------------------\u001b[0m",
      "\u001b[0;31mNameError\u001b[0m                                 Traceback (most recent call last)",
      "\u001b[0;32m<ipython-input-1-bf9d38962fcb>\u001b[0m in \u001b[0;36m<module>\u001b[0;34m\u001b[0m\n\u001b[1;32m      1\u001b[0m \u001b[0;32mimport\u001b[0m \u001b[0mstylecloud\u001b[0m\u001b[0;34m\u001b[0m\u001b[0;34m\u001b[0m\u001b[0m\n\u001b[1;32m      2\u001b[0m \u001b[0;31m# Best reviews\u001b[0m\u001b[0;34m\u001b[0m\u001b[0;34m\u001b[0m\u001b[0;34m\u001b[0m\u001b[0m\n\u001b[0;32m----> 3\u001b[0;31m \u001b[0mbest\u001b[0m \u001b[0;34m=\u001b[0m \u001b[0mfinal_data\u001b[0m\u001b[0;34m[\u001b[0m\u001b[0mfinal_data\u001b[0m\u001b[0;34m[\u001b[0m\u001b[0;34m\"review_scores_rating\"\u001b[0m\u001b[0;34m]\u001b[0m \u001b[0;34m==\u001b[0m \u001b[0;36m1\u001b[0m\u001b[0;34m]\u001b[0m\u001b[0;34m[\u001b[0m\u001b[0;34m\"comments\"\u001b[0m\u001b[0;34m]\u001b[0m\u001b[0;34m.\u001b[0m\u001b[0mtolist\u001b[0m\u001b[0;34m(\u001b[0m\u001b[0;34m)\u001b[0m\u001b[0;34m\u001b[0m\u001b[0;34m\u001b[0m\u001b[0m\n\u001b[0m\u001b[1;32m      4\u001b[0m \u001b[0;31m# Decent reviews\u001b[0m\u001b[0;34m\u001b[0m\u001b[0;34m\u001b[0m\u001b[0;34m\u001b[0m\u001b[0m\n\u001b[1;32m      5\u001b[0m \u001b[0mdecent\u001b[0m \u001b[0;34m=\u001b[0m \u001b[0mfinal_data\u001b[0m\u001b[0;34m[\u001b[0m\u001b[0mfinal_data\u001b[0m\u001b[0;34m[\u001b[0m\u001b[0;34m\"review_scores_rating\"\u001b[0m\u001b[0;34m]\u001b[0m \u001b[0;34m==\u001b[0m \u001b[0;36m0\u001b[0m\u001b[0;34m]\u001b[0m\u001b[0;34m[\u001b[0m\u001b[0;34m\"comments\"\u001b[0m\u001b[0;34m]\u001b[0m\u001b[0;34m.\u001b[0m\u001b[0mtolist\u001b[0m\u001b[0;34m(\u001b[0m\u001b[0;34m)\u001b[0m\u001b[0;34m\u001b[0m\u001b[0;34m\u001b[0m\u001b[0m\n",
      "\u001b[0;31mNameError\u001b[0m: name 'final_data' is not defined"
     ]
    }
   ],
   "source": [
    "import stylecloud\n",
    "# Best reviews\n",
    "best = final_data[final_data[\"review_scores_rating\"] == 1][\"comments\"].tolist()\n",
    "# Decent reviews\n",
    "decent = final_data[final_data[\"review_scores_rating\"] == 0][\"comments\"].tolist()\n",
    "valueBest = ''.join(best)\n",
    "valueDecent = ''.join(decent)\n",
    "# Best word cloud\n",
    "stylecloud.gen_stylecloud(text= valueBest, output_name=\"vis_best_listings.png\")\n",
    "# Decent word cloud\n",
    "stylecloud.gen_stylecloud(text= valueDecent, output_name=\"vis_decent_listings.png\")\n",
    "\n",
    "#It is shown from the output of our wordclouds are not that different from one another.\n",
    "#This might be the result of the dataset that we obtained, which has an extremely high median value, indicating that \n",
    "#there are a significantly higher number of values of good reviews compared to the bad ones. "
   ]
  },
  {
   "cell_type": "markdown",
   "metadata": {},
   "source": [
    "Here is the word cloud of the best listings:\n",
    "<img src=\"https://i.ibb.co/b6NX71r/vis-best-listings.png\" alt=\"vis-false-headlines\" width=300>"
   ]
  },
  {
   "cell_type": "markdown",
   "metadata": {},
   "source": [
    "Here is the word cloud of the decent listings:\n",
    "<img src=\"https://i.ibb.co/sj2JQ80/vis-decent-listings.png\" alt=\"vis-false-headlines\" width=300>"
   ]
  },
  {
   "cell_type": "markdown",
   "metadata": {},
   "source": [
    "### Our Scatter Plot Vizualization"
   ]
  },
  {
   "cell_type": "code",
   "execution_count": 104,
   "metadata": {
    "scrolled": true
   },
   "outputs": [
    {
     "data": {
      "image/png": "[encoded data removed]",
      "text/plain": [
       "Text(0, 0.5, 'Number of Reviews')"
      ]
     },
     "metadata": {
      "image/png": {}
     },
     "output_type": "display_data"
    }
   ],
   "source": [
    "import seaborn as sns\n",
    "\n",
    "#Get the number of times a review score rating ocurred.\n",
    "counts = listings.groupby(by=['review_scores_rating']).count()\n",
    "counts = counts.filter(['id', 'review_scores_rating'], axis=1).reset_index()\n",
    "\n",
    "# create and display the scatter plot\n",
    "graph = sns.scatterplot(x=\"review_scores_rating\", y=\"id\", data = counts)\n",
    "\n",
    "#specify the title\n",
    "title = \"Review Scores Rating vs Number of Reviews\"\n",
    "\n",
    "#set the title of the plot\n",
    "graph.set_title(title, size = 16)\n",
    "\n",
    "#add labels to the axes  \n",
    "graph.set_xlabel(\"Rating\", size = 16)\n",
    "graph.set_ylabel(\"Number of Reviews\", size = 16)\n",
    "\n",
    "#The scatter-plot has shown that there is a significant amount of higher rating reviews compared to the lower ones\n",
    "# in our original dataset."
   ]
  },
  {
   "cell_type": "markdown",
   "metadata": {},
   "source": [
    "Scatter-plot visualization:\n",
    "<img src=\"https://i.ibb.co/R0d9507/Screen-Shot-2021-12-10-at-6-55-02-PM.png\" alt=\"vis-false-headlines\" width=600>"
   ]
  },
  {
   "cell_type": "markdown",
   "metadata": {},
   "source": [
    "### 3.3. Model Training"
   ]
  },
  {
   "cell_type": "markdown",
   "metadata": {},
   "source": [
    "### Splitting Data into Training, Validation, and Testing Sets"
   ]
  },
  {
   "cell_type": "code",
   "execution_count": 73,
   "metadata": {},
   "outputs": [],
   "source": [
    "# Text vectorizer/bag of words\n",
    "from sklearn.feature_extraction.text import CountVectorizer\n",
    "from sklearn.model_selection import train_test_split\n",
    "\n",
    "# Set features and target arrays to split data\n",
    "features = merged_data[\"comments\"]\n",
    "target = merged_data[\"review_scores_rating\"]\n",
    "\n",
    "# Split data\n",
    "X_train, X_test, y_train, y_test = train_test_split(features, target, random_state=3000)\n",
    "\n",
    "# Set validation data to 10% of training data\n",
    "X_train, X_val, y_train, y_val = train_test_split(X_train, y_train, test_size = .10)\n",
    "\n",
    "# create the vocabulary based on the training data, using stop words (would've done bigrams, but RFE took over 10 minutes and\n",
    "# still didn't finish)\n",
    "vect = CountVectorizer(stop_words = \"english\").fit(X_train.values.astype('U'))\n",
    "vect.fit(X_train.values.astype('U'))\n",
    "\n",
    "#encode and transform data sets for words based on the vocabulary, also X_test for last testing data\n",
    "X_train_vectorized = vect.transform(X_train.values.astype('U'))\n",
    "X_validation_vectorized = vect.transform(X_val.values.astype('U'))\n",
    "X_test_vectorized = vect.transform(X_test.values.astype('U'))"
   ]
  },
  {
   "cell_type": "markdown",
   "metadata": {},
   "source": [
    "### RFE for Feature Selection (might take a few minutes to load)"
   ]
  },
  {
   "cell_type": "code",
   "execution_count": 74,
   "metadata": {},
   "outputs": [],
   "source": [
    "from sklearn.feature_selection import RFE\n",
    "from sklearn.tree import DecisionTreeRegressor\n",
    "\n",
    "#select 100 words out of the original 4308\n",
    "select = RFE(DecisionTreeRegressor(random_state = 3000), n_features_to_select = 100)\n",
    "\n",
    "#fit RFE to the training data\n",
    "select.fit(X_train_vectorized, y_train)\n",
    "\n",
    "#only the selected features are retained for the vectorized sets.\n",
    "X_train_selected = select.transform(X_train_vectorized)\n",
    "X_val_selected = select.transform(X_validation_vectorized)\n",
    "X_test_selected = select.transform(X_test_vectorized)"
   ]
  },
  {
   "cell_type": "markdown",
   "metadata": {},
   "source": [
    "### Grid Search for Hyperparameter Tuning"
   ]
  },
  {
   "cell_type": "markdown",
   "metadata": {},
   "source": [
    "#### Apply 3 Machine Learning Algorithms (DecisionTreeClassifier, LogisticRegression, MultinomialNB)\n",
    "#### Train algorithms with the Training Set\n"
   ]
  },
  {
   "cell_type": "code",
   "execution_count": 93,
   "metadata": {},
   "outputs": [
    {
     "name": "stdout",
     "output_type": "stream",
     "text": [
      "mnb Best estimator:  MultinomialNB(alpha=0.1)\n",
      "mnb Best parameters:  {'alpha': 0.1}\n",
      "mnb Best cross-validation score:  0.6111111111111112\n",
      "mnb Validation set score:  0.6111111111111112\n",
      "lr Best estimator:  LogisticRegression()\n",
      "lr Best parameters:  {'max_iter': 100}\n",
      "lr Best cross-validation score:  0.6049382716049383\n",
      "lr Validation set score:  0.5222222222222223\n",
      "tree Best estimator:  DecisionTreeClassifier(max_depth=100)\n",
      "tree Best parameters:  {'max_depth': 100}\n",
      "tree Best cross-validation score:  0.5703703703703704\n",
      "tree Validation set score:  0.5\n"
     ]
    }
   ],
   "source": [
    "from sklearn.tree import DecisionTreeClassifier\n",
    "from sklearn.linear_model import LogisticRegression\n",
    "from sklearn.naive_bayes import MultinomialNB\n",
    "from sklearn.model_selection import GridSearchCV\n",
    "import warnings\n",
    "\n",
    "warnings.filterwarnings(\"ignore\")\n",
    "\n",
    "# List of desired algorithms which we wish to test.\n",
    "est = {'mnb': MultinomialNB(), 'lr':LogisticRegression(), 'tree':DecisionTreeClassifier()}\n",
    "\n",
    "# For each algorithm, specify 3 different parameters by which we can find the optimal parameter.\n",
    "params = {'mnb':{'alpha':[1, 0.1, 10]}, 'lr':{\"max_iter\":[1, 10, 100]},'tree':{\"max_depth\":[1, 10, 100]}}\n",
    "\n",
    "# For each algorithm, find the best esimator, parameter, cross-validation score, and the Validation set score.\n",
    "for key, value in est.items():\n",
    "    for param, y in params.items():\n",
    "        if key == param:\n",
    "            grid_search = GridSearchCV(value, y, cv=5)\n",
    "            grid_search.fit(X=X_train_selected, y=y_train)\n",
    "            print(key + \" Best estimator: \", grid_search.best_estimator_)\n",
    "            print(key + \" Best parameters: \", grid_search.best_params_)\n",
    "            print(key + \" Best cross-validation score: \", grid_search.best_score_)\n",
    "            print(key + \" Validation set score: \", grid_search.score(X_val_selected, y_val))\n",
    "\n",
    "\n",
    "# This iteration shows that MultinomialNB with an alpha=0.1 provides the best cross-validation score and Validation \n",
    "# set scores, suggesting that is the best model for us to use."
   ]
  },
  {
   "cell_type": "markdown",
   "metadata": {},
   "source": [
    "#### Comparing All Features Model to Previous Selected Features"
   ]
  },
  {
   "cell_type": "code",
   "execution_count": 79,
   "metadata": {},
   "outputs": [
    {
     "name": "stdout",
     "output_type": "stream",
     "text": [
      "mnb Best estimator:  MultinomialNB(alpha=1)\n",
      "mnb Best parameters:  {'alpha': 1}\n",
      "mnb Best cross-validation score:  0.5765432098765432\n",
      "mnb Validation set score:  0.6\n",
      "lr Best estimator:  LogisticRegression(max_iter=1)\n",
      "lr Best parameters:  {'max_iter': 1}\n",
      "lr Best cross-validation score:  0.562962962962963\n",
      "lr Validation set score:  0.6111111111111112\n",
      "tree Best estimator:  DecisionTreeClassifier(max_depth=100)\n",
      "tree Best parameters:  {'max_depth': 100}\n",
      "tree Best cross-validation score:  0.5345679012345679\n",
      "tree Validation set score:  0.4777777777777778\n"
     ]
    }
   ],
   "source": [
    "from sklearn.tree import DecisionTreeClassifier\n",
    "from sklearn.linear_model import LogisticRegression\n",
    "from sklearn.naive_bayes import MultinomialNB\n",
    "from sklearn.model_selection import GridSearchCV\n",
    "import warnings\n",
    "\n",
    "warnings.filterwarnings(\"ignore\")\n",
    "\n",
    "est = {'mnb': MultinomialNB(), 'lr':LogisticRegression(), 'tree':DecisionTreeClassifier()}\n",
    "\n",
    "params = {'mnb':{'alpha':[1, 0.1, 10]}, 'lr':{\"max_iter\":[1, 10, 100]},'tree':{\"max_depth\":[1, 10, 100]}}\n",
    "\n",
    "for key, value in est.items():\n",
    "    for param, y in params.items():\n",
    "        if key == param:\n",
    "            grid_search = GridSearchCV(value, y, cv=5)\n",
    "            grid_search.fit(X=X_train_vectorized, y=y_train)\n",
    "            print(key + \" Best estimator: \", grid_search.best_estimator_)\n",
    "            print(key + \" Best parameters: \", grid_search.best_params_)\n",
    "            print(key + \" Best cross-validation score: \", grid_search.best_score_)\n",
    "            print(key + \" Validation set score: \", grid_search.score(X_validation_vectorized, y_val))\n",
    "\n",
    "\n",
    "# Results show that with all features, the accuracy has decreased compared to when we only selected 100 features."
   ]
  },
  {
   "cell_type": "markdown",
   "metadata": {},
   "source": [
    "### 3.4. Model Optimization"
   ]
  },
  {
   "cell_type": "markdown",
   "metadata": {},
   "source": [
    "### Evaluate Performance of Algorithms"
   ]
  },
  {
   "cell_type": "code",
   "execution_count": 110,
   "metadata": {},
   "outputs": [
    {
     "name": "stdout",
     "output_type": "stream",
     "text": [
      "              precision    recall  f1-score   support\n",
      "\n",
      "           0       0.60      0.51      0.55        47\n",
      "           1       0.54      0.63      0.58        43\n",
      "\n",
      "    accuracy                           0.57        90\n",
      "   macro avg       0.57      0.57      0.57        90\n",
      "weighted avg       0.57      0.57      0.57        90\n",
      "\n",
      "Prediction accuracy on the training data: 66.54\n",
      "Prediction accuracy on the validation data: 56.67\n"
     ]
    }
   ],
   "source": [
    "# Comparing MNB with alpha of 10\n",
    "from sklearn.metrics import classification_report\n",
    "model = MultinomialNB(alpha=10)\n",
    "\n",
    "# Fit the model based on the training data.\n",
    "model.fit(X_train_selected, y_train)\n",
    "\n",
    "predicted = model.predict(X=X_val_selected)\n",
    "expected = y_val\n",
    "\n",
    "# Evalulate the performance of our algorithms based on multiple metrics.\n",
    "class_report = classification_report(y_true=expected, y_pred=predicted)\n",
    "print (class_report)\n",
    "\n",
    "# Find prediction accuracy for the given algorithm and parameter.\n",
    "print(\"Prediction accuracy on the training data:\", format(model.score(X_train_selected, y_train)*100, \".2f\"))\n",
    "print(\"Prediction accuracy on the validation data:\", format(model.score(X_val_selected, y_val)*100, \".2f\"))"
   ]
  },
  {
   "cell_type": "code",
   "execution_count": 108,
   "metadata": {},
   "outputs": [
    {
     "name": "stdout",
     "output_type": "stream",
     "text": [
      "              precision    recall  f1-score   support\n",
      "\n",
      "           0       0.54      0.53      0.54        47\n",
      "           1       0.50      0.51      0.51        43\n",
      "\n",
      "    accuracy                           0.52        90\n",
      "   macro avg       0.52      0.52      0.52        90\n",
      "weighted avg       0.52      0.52      0.52        90\n",
      "\n",
      "Prediction accuracy on the training data: 67.65\n",
      "Prediction accuracy on the validation data: 52.22\n"
     ]
    }
   ],
   "source": [
    "# Comparing logistic regression w/ max-iter of 10.\n",
    "\n",
    "from sklearn.metrics import classification_report\n",
    "model = LogisticRegression(max_iter=10)\n",
    "\n",
    "# Fit the model based on the training data.\n",
    "model.fit(X_train_selected, y_train)\n",
    "\n",
    "predicted = model.predict(X=X_val_selected)\n",
    "expected = y_val\n",
    "\n",
    "# Evalulate the performance of our algorithms based on multiple metrics.\n",
    "class_report = classification_report(y_true=expected, y_pred=predicted)\n",
    "print (class_report)\n",
    "\n",
    "# Find prediction accuracy for the given algorithm and parameter.\n",
    "print(\"Prediction accuracy on the training data:\", format(model.score(X_train_selected, y_train)*100, \".2f\"))\n",
    "print(\"Prediction accuracy on the validation data:\", format(model.score(X_val_selected, y_val)*100, \".2f\"))"
   ]
  },
  {
   "cell_type": "code",
   "execution_count": 109,
   "metadata": {},
   "outputs": [
    {
     "name": "stdout",
     "output_type": "stream",
     "text": [
      "              precision    recall  f1-score   support\n",
      "\n",
      "           0       0.65      0.55      0.60        47\n",
      "           1       0.58      0.67      0.62        43\n",
      "\n",
      "    accuracy                           0.61        90\n",
      "   macro avg       0.61      0.61      0.61        90\n",
      "weighted avg       0.62      0.61      0.61        90\n",
      "\n",
      "Prediction accuracy on the training data: 69.14\n",
      "Prediction accuracy on the validation data: 61.11\n",
      "The cross-validation score and the prediction accuracy on the training data are not 100 but not super loweither suggesting neither over or underfitting significantly.\n"
     ]
    }
   ],
   "source": [
    "# checking that suboptimal parameters lowers score.\n",
    "from sklearn.metrics import classification_report\n",
    "model = MultinomialNB(alpha=0.1)\n",
    "\n",
    "model.fit(X_train_selected, y_train)\n",
    "\n",
    "predicted = model.predict(X=X_val_selected)\n",
    "expected = y_val\n",
    "class_report = classification_report(y_true=expected, y_pred=predicted)\n",
    "print (class_report)\n",
    "\n",
    "print(\"Prediction accuracy on the training data:\", format(model.score(X_train_selected, y_train)*100, \".2f\"))\n",
    "print(\"Prediction accuracy on the validation data:\", format(model.score(X_val_selected, y_val)*100, \".2f\"))\n",
    "\n",
    "# The prediction accuracy score on the training data is the highest here, compared to the previous cell\n",
    "# where the alpha was 10, and when we used LogisticRegression instead of MNB,\n",
    "# suggesting that the MNB with an alpha of 0.1 is optimal, as the gridsearch suggested.\n",
    "\n",
    "print(\"The cross-validation score and the prediction accuracy on the training data are not 100 but not super low\"\n",
    "      + \"either suggesting neither over or underfitting significantly.\")"
   ]
  },
  {
   "cell_type": "markdown",
   "metadata": {},
   "source": [
    "### 3.5. Model Testing"
   ]
  },
  {
   "cell_type": "code",
   "execution_count": 111,
   "metadata": {},
   "outputs": [
    {
     "name": "stdout",
     "output_type": "stream",
     "text": [
      "              precision    recall  f1-score   support\n",
      "\n",
      "           0       0.55      0.49      0.52       148\n",
      "           1       0.55      0.61      0.58       152\n",
      "\n",
      "    accuracy                           0.55       300\n",
      "   macro avg       0.55      0.55      0.55       300\n",
      "weighted avg       0.55      0.55      0.55       300\n",
      "\n",
      "Prediction accuracy on the training data: 69.14\n",
      "Prediction accuracy on the test data: 55.00\n"
     ]
    }
   ],
   "source": [
    "from sklearn.metrics import classification_report\n",
    "model = MultinomialNB(alpha=0.1)\n",
    "model.fit(X_train_selected, y_train)\n",
    "\n",
    "predicted = model.predict(X=X_test_selected)\n",
    "expected = y_test\n",
    "class_report = classification_report(y_true=expected, y_pred=predicted)\n",
    "print (class_report)\n",
    "\n",
    "print(\"Prediction accuracy on the training data:\", format(model.score(X_train_selected, y_train)*100, \".2f\"))\n",
    "print(\"Prediction accuracy on the test data:\", format(model.score(X_test_selected, y_test)*100, \".2f\"))"
   ]
  },
  {
   "cell_type": "markdown",
   "metadata": {},
   "source": [
    "<a id=\"4\"></a>\n",
    "<hr style=\"height:2px; border:none; color:black; background-color:black;\">"
   ]
  },
  {
   "cell_type": "markdown",
   "metadata": {},
   "source": [
    "## 4. DISCUSSION\n",
    "\n",
    "We compared the results of Logistic Regression, Multinomial Naive Bayes and Decision Tree Classifier to determine\n",
    "which algorithm(s) will be the best to tackle this problem.\n",
    "    \n",
    "   We used GridSearch for hyperparameter tuning to determine the best parameters and to check whether our model is overfitted or not. Best on the result of the GridSearch, while we are trying to determine which is the best estimator for our model. The results of our algorithms change with each instance that we run it, but we found that on average, the algorithm that has the highest cross validation score and validation set score is the Multinomial Naive Bayes algorithm. The best parameter to use for this algorithm is 'alpha=0.1'. The cross-validation score and the prediction accuracy on the training data are not 100 but not super low which suggest neither over or underfitting significantly. \n",
    "   \n",
    "   Based off of these results, the algorithm that we used for our predictive model is Multinomial Naive Bayes. Based on our findings, it is safe to say that we are able to use the features in our dataset to predict the outcome variable we identified using the algorithms we applied. There is one issue that may arise for ethical implications on this project. The issue is that we use the median of the average ratings in our data to make it easier to use for us because the majority of the reviews are all heavily skewed toward a perfect 5 star rating. Other dataset bias can come from how there aren't many reviews for some listings while other listings have a great amount of reviews. For the sake of our project we manipulated our dataset to only have one review for each unique listing so this may cause a fair amount of bias in our dataset. This is because one review for a specific listing can be an outlier in the listing's general reception amongst other reviews by users.\n",
    "\n",
    "For any future work we can possibly use a less biased dataset as we did for the sake of this project to possibly glean any further insights. We can also apply our work on this project to other regions and see what kind of data is yielded there. This may show us that different algorithms are more favorable to use compared to the ones that we declared to be the best in our project. Also, other algorithms besides the three that we used can be applied to see any different results.\n",
    "\n",
    "## Answers to our questions from Part 1\n",
    "\n",
    "   Upon our implementation of our algorithms we can answer the questions we have asked ourselves in Part 1 of this project:\n",
    "\n",
    "   * Out of the three algorithms (Logistic Regression, Multinomial Naive Bayes, Decision Tree), which one yields the highest classification accuracy result? Which one out of the three algorithms can we use to predict whether a listing is a \"Best\" place to stay in or just a \"Decent\" place to stay in?\n",
    "\n",
    "      Multinomial Naive Bayes was the machine learning algorithm that yielded the highest classification accuracy result. Multinomial Naive Bayes is also the algorithm that we can use to predict our binary target variable.\n",
    "\n",
    "* How many \"Best\" listings are there relative to how many \"Decent\" listings. Is there a wide difference?\n",
    "\n",
    "   The amount of \"Best\" listings is actually not too far from the amount of \"Decent\" listings because of the high saturation of very highly rated reviews in the dataset. If we wanted to pinpoint it further we would have to be stricter with what exact score we determine to be a \"Best\" listing.\n",
    "\n",
    "* Do the results change at all when run with a different instance? This can situation can possibly arise as new reviews are constantly being written every day for each listing on Airbnb. Or is it the case that these new entries do not skew the results of our algorithms?\n",
    "\n",
    "   The results do change slightly when run with different instances but it does not create a very large disparity amongst one another. Overall, the majority of the instances show that Multinomial Naive Bayes is still the best machine learning algorithm to use for this project."
   ]
  },
  {
   "cell_type": "markdown",
   "metadata": {},
   "source": [
    "<a id=\"5\"></a>\n",
    "<hr style=\"height:2px; border:none; color:black; background-color:black;\">"
   ]
  }
 ],
 "metadata": {
  "kernelspec": {
   "display_name": "Python 3",
   "language": "python",
   "name": "python3"
  },
  "language_info": {
   "codemirror_mode": {
    "name": "ipython",
    "version": 3
   },
   "file_extension": ".py",
   "mimetype": "text/x-python",
   "name": "python",
   "nbconvert_exporter": "python",
   "pygments_lexer": "ipython3",
   "version": "3.8.8"
  }
 },
 "nbformat": 4,
 "nbformat_minor": 1
}
